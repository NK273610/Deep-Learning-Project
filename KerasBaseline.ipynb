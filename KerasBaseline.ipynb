{
  "nbformat": 4,
  "nbformat_minor": 0,
  "metadata": {
    "colab": {
      "name": "Untitled3.ipynb",
      "version": "0.3.2",
      "provenance": []
    },
    "kernelspec": {
      "name": "python2",
      "display_name": "Python 2"
    }
  },
  "cells": [
    {
      "metadata": {
        "id": "7iAXK-p4isp-",
        "colab_type": "code",
        "colab": {
          "base_uri": "https://localhost:8080/",
          "height": 34
        },
        "outputId": "596020f0-0d12-47b8-d905-dc2629b08a7b"
      },
      "cell_type": "code",
      "source": [
        "# # Import Keras\n",
        "import keras.preprocessing.image as prep\n",
        "from keras.models import Sequential\n",
        "from keras.layers.core import Dense, Dropout, Flatten, Activation\n",
        "from keras.layers.convolutional import Convolution2D as Conv2D, MaxPooling2D\n",
        "from keras.callbacks import EarlyStopping, ModelCheckpoint, ReduceLROnPlateau\n",
        "from keras.layers.normalization import BatchNormalization\n",
        "from keras.preprocessing.image import ImageDataGenerator\n",
        "from keras.optimizers import Adam"
      ],
      "execution_count": 1,
      "outputs": [
        {
          "output_type": "stream",
          "text": [
            "Using TensorFlow backend.\n"
          ],
          "name": "stderr"
        }
      ]
    },
    {
      "metadata": {
        "id": "GclhMSkLi0bX",
        "colab_type": "code",
        "colab": {
          "base_uri": "https://localhost:8080/",
          "height": 71
        },
        "outputId": "183c47dc-2d9b-46d1-ae30-9cdbec53e512"
      },
      "cell_type": "code",
      "source": [
        "import pandas as pd\n",
        "import numpy as np\n",
        "import random\n",
        "import cv2 # Used to manipulated the images\n",
        "from sklearn.cross_validation import train_test_split"
      ],
      "execution_count": 2,
      "outputs": [
        {
          "output_type": "stream",
          "text": [
            "/usr/local/lib/python2.7/dist-packages/sklearn/cross_validation.py:41: DeprecationWarning: This module was deprecated in version 0.18 in favor of the model_selection module into which all the refactored classes and functions are moved. Also note that the interface of the new CV iterators are different from that of this module. This module will be removed in 0.20.\n",
            "  \"This module will be removed in 0.20.\", DeprecationWarning)\n"
          ],
          "name": "stderr"
        }
      ]
    },
    {
      "metadata": {
        "id": "z8JRFOdDi4Sb",
        "colab_type": "code",
        "colab": {
          "base_uri": "https://localhost:8080/",
          "height": 187
        },
        "outputId": "5e985878-2e15-4945-d4b1-d0a1914f8445"
      },
      "cell_type": "code",
      "source": [
        "# read data from google drive\n",
        "! pip install pydrive\n",
        "# these classes allow you to request the Google drive API\n",
        "from pydrive.auth import GoogleAuth\n",
        "from pydrive.drive import GoogleDrive \n",
        "from google.colab import auth \n",
        "from oauth2client.client import GoogleCredentials\n",
        "\n",
        "# 1. Authenticate and create the PyDrive client.\n",
        "auth.authenticate_user()\n",
        "gauth = GoogleAuth()\n",
        "gauth.credentials = GoogleCredentials.get_application_default()\n",
        "drive = GoogleDrive(gauth)\n",
        "file_id = '1CZ96d936zVKksp2tlEyITAE9jdnjybnL'\n",
        "file_id2='14bUVSfsTjOwDspvBMmjlUFsTQPzg8l5n'\n",
        "downloaded = drive.CreateFile({'id': file_id})\n",
        "downloaded2 = drive.CreateFile({'id': file_id2})\n",
        "# allows you to temporarily load your file in the notebook VM\n",
        "\n",
        "# assume the file is called file.csv and it's located at the root of your drive\n",
        "downloaded.GetContentFile('train.json')\n",
        "downloaded2.GetContentFile('test.json')"
      ],
      "execution_count": 4,
      "outputs": [
        {
          "output_type": "stream",
          "text": [
            "Requirement already satisfied: pydrive in /usr/local/lib/python2.7/dist-packages (1.3.1)\r\n",
            "Requirement already satisfied: PyYAML>=3.0 in /usr/local/lib/python2.7/dist-packages (from pydrive) (3.13)\r\n",
            "Requirement already satisfied: oauth2client>=4.0.0 in /usr/local/lib/python2.7/dist-packages (from pydrive) (4.1.2)\n",
            "Requirement already satisfied: google-api-python-client>=1.2 in /usr/local/lib/python2.7/dist-packages (from pydrive) (1.6.7)\n",
            "Requirement already satisfied: httplib2>=0.9.1 in /usr/local/lib/python2.7/dist-packages (from oauth2client>=4.0.0->pydrive) (0.11.3)\n",
            "Requirement already satisfied: rsa>=3.1.4 in /usr/local/lib/python2.7/dist-packages (from oauth2client>=4.0.0->pydrive) (3.4.2)\n",
            "Requirement already satisfied: pyasn1>=0.1.7 in /usr/local/lib/python2.7/dist-packages (from oauth2client>=4.0.0->pydrive) (0.4.4)\n",
            "Requirement already satisfied: pyasn1-modules>=0.0.5 in /usr/local/lib/python2.7/dist-packages (from oauth2client>=4.0.0->pydrive) (0.2.2)\n",
            "Requirement already satisfied: six>=1.6.1 in /usr/local/lib/python2.7/dist-packages (from oauth2client>=4.0.0->pydrive) (1.11.0)\n",
            "Requirement already satisfied: uritemplate<4dev,>=3.0.0 in /usr/local/lib/python2.7/dist-packages (from google-api-python-client>=1.2->pydrive) (3.0.0)\n"
          ],
          "name": "stdout"
        }
      ]
    },
    {
      "metadata": {
        "id": "ab7-UkGxjBTy",
        "colab_type": "code",
        "colab": {}
      },
      "cell_type": "code",
      "source": [
        "# Import the data\n",
        "data = pd.read_json(\"train.json\")\n",
        "test=pd.read_json(\"test.json\")"
      ],
      "execution_count": 0,
      "outputs": []
    },
    {
      "metadata": {
        "id": "_iOwBekWjHD1",
        "colab_type": "code",
        "colab": {}
      },
      "cell_type": "code",
      "source": [
        "# training data (for now using only band_1 for convolution)\n",
        "# labels are in \"is_iceberg\" column where 0 value indicates a ship while 1 indicates iceberg\n",
        "X_band_1 = np.array([np.array(band).astype(np.float32).reshape(75, 75) for band in data[\"band_1\"]])\n",
        "X_band_2 = np.array([np.array(band).astype(np.float32).reshape(75, 75) for band in data[\"band_2\"]])\n",
        "channel_3 = X_band_1 + X_band_2\n",
        "new_data = np.concatenate([X_band_1[:, :, :, np.newaxis],\n",
        "                             X_band_2[:, :, :, np.newaxis],\n",
        "                             channel_3[:, :, :, np.newaxis]], axis=-1)\n",
        "\n",
        "targets = data[\"is_iceberg\"]\n",
        "\n",
        "# split in test and train\n",
        "split = np.array_split(new_data, 10, axis=0)\n",
        "X_train = np.concatenate(split[0:8], axis=0)\n",
        "X_test = np.concatenate(split[8:10], axis=0)\n",
        "Y_train = np.concatenate(np.array_split(targets, 10, axis=0)[0:8], axis=0)\n",
        "Y_test = np.concatenate(np.array_split(targets, 10, axis=0)[8:10], axis=0)"
      ],
      "execution_count": 0,
      "outputs": []
    },
    {
      "metadata": {
        "id": "Xp6mCEoujMsB",
        "colab_type": "code",
        "colab": {}
      },
      "cell_type": "code",
      "source": [
        "# image generator generating image tensors from the data\n",
        "gen = ImageDataGenerator(horizontal_flip=True,\n",
        "                         vertical_flip=True,\n",
        "                         width_shift_range=2,\n",
        "                         height_shift_range=2,\n",
        "                         channel_shift_range=0,\n",
        "                         zoom_range=0.2,\n",
        "                         rotation_range=10)\n",
        "\n",
        "gen_op = gen.flow(x=X_train, y=Y_train,batch_size=32, seed=10)\n",
        "gen_val = gen.flow(x=X_test, y=Y_test, batch_size=32,seed=10)"
      ],
      "execution_count": 0,
      "outputs": []
    },
    {
      "metadata": {
        "id": "ELU1G7D_jRsm",
        "colab_type": "code",
        "colab": {}
      },
      "cell_type": "code",
      "source": [
        "def getModel():\n",
        "    #Building the model\n",
        "    gmodel=Sequential()\n",
        "    #Conv Layer 1\n",
        "    gmodel.add(Conv2D(64, kernel_size=(3, 3),activation='relu', input_shape=(75, 75, 3)))\n",
        "    # gmodel.add(BatchNormalization())\n",
        "    gmodel.add(MaxPooling2D(pool_size=(3, 3), strides=(2, 2)))\n",
        "    gmodel.add(Dropout(0.2))\n",
        "\n",
        "    #Conv Layer 2\n",
        "    gmodel.add(Conv2D(128, kernel_size=(3, 3), activation='relu' ))\n",
        "    # gmodel.add(BatchNormalization())\n",
        "    gmodel.add(MaxPooling2D(pool_size=(2, 2), strides=(2, 2)))\n",
        "    gmodel.add(Dropout(0.2))\n",
        "\n",
        "\n",
        "    #Conv Layer 3\n",
        "    gmodel.add(Conv2D(128, kernel_size=(3, 3), activation='relu'))\n",
        "    # gmodel.add(BatchNormalization())\n",
        "    gmodel.add(MaxPooling2D(pool_size=(2, 2), strides=(2, 2)))\n",
        "    gmodel.add(Dropout(0.2))\n",
        "\n",
        "    #Conv Layer 4\n",
        "    gmodel.add(Conv2D(64, kernel_size=(3, 3), activation='relu'))\n",
        "    # gmodel.add(BatchNormalization())\n",
        "    gmodel.add(MaxPooling2D(pool_size=(2, 2), strides=(2, 2)))\n",
        "    gmodel.add(Dropout(0.2))\n",
        "\n",
        "\n",
        "    #Flatten the data for upcoming dense layers\n",
        "    gmodel.add(Flatten())\n",
        "\n",
        "    #Dense Layers\n",
        "    gmodel.add(Dense(512))\n",
        "    gmodel.add(Activation('relu'))\n",
        "    gmodel.add(Dropout(0.2))\n",
        "\n",
        "    #Dense Layer 2\n",
        "    gmodel.add(Dense(256))\n",
        "    gmodel.add(Activation('relu'))\n",
        "    gmodel.add(Dropout(0.2))\n",
        "\n",
        "    #Sigmoid Layer\n",
        "    gmodel.add(Dense(1))\n",
        "    gmodel.add(Activation('sigmoid'))\n",
        "\n",
        "    mypotim=Adam(lr=0.001, beta_1=0.9, beta_2=0.999, epsilon=1e-08, decay=0.0)\n",
        "    gmodel.compile(loss='binary_crossentropy',\n",
        "                  optimizer=mypotim,\n",
        "                  metrics=['accuracy'])\n",
        "    gmodel.summary()\n",
        "    return gmodel\n"
      ],
      "execution_count": 0,
      "outputs": []
    },
    {
      "metadata": {
        "id": "QZt0nwPNj1nZ",
        "colab_type": "code",
        "colab": {}
      },
      "cell_type": "code",
      "source": [
        "def get_callbacks(filepath, patience=2):\n",
        "    es = EarlyStopping('val_loss', patience=patience, mode=\"min\")\n",
        "    msave = ModelCheckpoint(filepath, save_best_only=True)\n",
        "    reduce_lr_loss = ReduceLROnPlateau(monitor='val_loss',\n",
        "                                       factor=0.1,\n",
        "                                       patience=7,\n",
        "                                       verbose=0,\n",
        "                                       epsilon=1e-4,\n",
        "                                       mode='min')\n",
        "    return [es, msave,reduce_lr_loss]"
      ],
      "execution_count": 0,
      "outputs": []
    },
    {
      "metadata": {
        "id": "xQXeoMlFj5_H",
        "colab_type": "code",
        "colab": {}
      },
      "cell_type": "code",
      "source": [
        "file_path = \".model_weights.hdf5\"\n",
        "callbacks = get_callbacks(filepath=file_path, patience=5)\n"
      ],
      "execution_count": 0,
      "outputs": []
    },
    {
      "metadata": {
        "id": "YjsEyad-kB3n",
        "colab_type": "code",
        "colab": {
          "base_uri": "https://localhost:8080/",
          "height": 1411
        },
        "outputId": "556f5a03-3319-41c8-b9c9-f95c54436514"
      },
      "cell_type": "code",
      "source": [
        "gmodel=getModel()\n",
        "gmodel.fit_generator(generator=gen_op,\n",
        "                    epochs=20,\n",
        "                     callbacks=callbacks,\n",
        "                    validation_data=gen_val)"
      ],
      "execution_count": 21,
      "outputs": [
        {
          "output_type": "stream",
          "text": [
            "_________________________________________________________________\n",
            "Layer (type)                 Output Shape              Param #   \n",
            "=================================================================\n",
            "conv2d_9 (Conv2D)            (None, 73, 73, 64)        1792      \n",
            "_________________________________________________________________\n",
            "max_pooling2d_9 (MaxPooling2 (None, 36, 36, 64)        0         \n",
            "_________________________________________________________________\n",
            "dropout_13 (Dropout)         (None, 36, 36, 64)        0         \n",
            "_________________________________________________________________\n",
            "conv2d_10 (Conv2D)           (None, 34, 34, 128)       73856     \n",
            "_________________________________________________________________\n",
            "max_pooling2d_10 (MaxPooling (None, 17, 17, 128)       0         \n",
            "_________________________________________________________________\n",
            "dropout_14 (Dropout)         (None, 17, 17, 128)       0         \n",
            "_________________________________________________________________\n",
            "conv2d_11 (Conv2D)           (None, 15, 15, 128)       147584    \n",
            "_________________________________________________________________\n",
            "max_pooling2d_11 (MaxPooling (None, 7, 7, 128)         0         \n",
            "_________________________________________________________________\n",
            "dropout_15 (Dropout)         (None, 7, 7, 128)         0         \n",
            "_________________________________________________________________\n",
            "conv2d_12 (Conv2D)           (None, 5, 5, 64)          73792     \n",
            "_________________________________________________________________\n",
            "max_pooling2d_12 (MaxPooling (None, 2, 2, 64)          0         \n",
            "_________________________________________________________________\n",
            "dropout_16 (Dropout)         (None, 2, 2, 64)          0         \n",
            "_________________________________________________________________\n",
            "flatten_3 (Flatten)          (None, 256)               0         \n",
            "_________________________________________________________________\n",
            "dense_7 (Dense)              (None, 512)               131584    \n",
            "_________________________________________________________________\n",
            "activation_7 (Activation)    (None, 512)               0         \n",
            "_________________________________________________________________\n",
            "dropout_17 (Dropout)         (None, 512)               0         \n",
            "_________________________________________________________________\n",
            "dense_8 (Dense)              (None, 256)               131328    \n",
            "_________________________________________________________________\n",
            "activation_8 (Activation)    (None, 256)               0         \n",
            "_________________________________________________________________\n",
            "dropout_18 (Dropout)         (None, 256)               0         \n",
            "_________________________________________________________________\n",
            "dense_9 (Dense)              (None, 1)                 257       \n",
            "_________________________________________________________________\n",
            "activation_9 (Activation)    (None, 1)                 0         \n",
            "=================================================================\n",
            "Total params: 560,193\n",
            "Trainable params: 560,193\n",
            "Non-trainable params: 0\n",
            "_________________________________________________________________\n",
            "Epoch 1/20\n",
            "41/41 [==============================] - 41s 1s/step - loss: 1.4586 - acc: 0.5257 - val_loss: 0.6637 - val_acc: 0.5281\n",
            "Epoch 2/20\n",
            "41/41 [==============================] - 40s 971ms/step - loss: 0.5851 - acc: 0.6596 - val_loss: 0.5751 - val_acc: 0.5625\n",
            "Epoch 3/20\n",
            "41/41 [==============================] - 39s 961ms/step - loss: 0.5308 - acc: 0.7255 - val_loss: 0.5837 - val_acc: 0.5781\n",
            "Epoch 4/20\n",
            "41/41 [==============================] - 40s 968ms/step - loss: 0.5069 - acc: 0.7529 - val_loss: 0.5941 - val_acc: 0.6188\n",
            "Epoch 5/20\n",
            "41/41 [==============================] - 40s 977ms/step - loss: 0.4957 - acc: 0.7593 - val_loss: 0.5102 - val_acc: 0.6875\n",
            "Epoch 6/20\n",
            "41/41 [==============================] - 41s 1s/step - loss: 0.4842 - acc: 0.7675 - val_loss: 0.5348 - val_acc: 0.6500\n",
            "Epoch 7/20\n",
            "41/41 [==============================] - 40s 985ms/step - loss: 0.4617 - acc: 0.7776 - val_loss: 0.4816 - val_acc: 0.7312\n",
            "Epoch 8/20\n",
            "41/41 [==============================] - 41s 996ms/step - loss: 0.4555 - acc: 0.7904 - val_loss: 0.5327 - val_acc: 0.6844\n",
            "Epoch 9/20\n",
            "41/41 [==============================] - 40s 982ms/step - loss: 0.4741 - acc: 0.7706 - val_loss: 0.5591 - val_acc: 0.6594\n",
            "Epoch 10/20\n",
            "41/41 [==============================] - 40s 980ms/step - loss: 0.4500 - acc: 0.7874 - val_loss: 0.5205 - val_acc: 0.7000\n",
            "Epoch 11/20\n",
            "41/41 [==============================] - 40s 973ms/step - loss: 0.4366 - acc: 0.7988 - val_loss: 0.4385 - val_acc: 0.8000\n",
            "Epoch 12/20\n",
            "41/41 [==============================] - 40s 965ms/step - loss: 0.4658 - acc: 0.7820 - val_loss: 0.5611 - val_acc: 0.6625\n",
            "Epoch 13/20\n",
            "41/41 [==============================] - 40s 975ms/step - loss: 0.4523 - acc: 0.7865 - val_loss: 0.4982 - val_acc: 0.7281\n",
            "Epoch 14/20\n",
            "41/41 [==============================] - 41s 999ms/step - loss: 0.4023 - acc: 0.8040 - val_loss: 0.4779 - val_acc: 0.7594\n",
            "Epoch 15/20\n",
            "41/41 [==============================] - 40s 978ms/step - loss: 0.4152 - acc: 0.8048 - val_loss: 0.5629 - val_acc: 0.6656\n",
            "Epoch 16/20\n",
            "41/41 [==============================] - 40s 981ms/step - loss: 0.4428 - acc: 0.7897 - val_loss: 0.5295 - val_acc: 0.6813\n"
          ],
          "name": "stdout"
        },
        {
          "output_type": "execute_result",
          "data": {
            "text/plain": [
              "<keras.callbacks.History at 0x7f8d1d38dd90>"
            ]
          },
          "metadata": {
            "tags": []
          },
          "execution_count": 21
        }
      ]
    },
    {
      "metadata": {
        "id": "W5Z7jnYjkk75",
        "colab_type": "code",
        "colab": {
          "base_uri": "https://localhost:8080/",
          "height": 68
        },
        "outputId": "70f73ee9-8c00-464c-c023-7e88c36e962c"
      },
      "cell_type": "code",
      "source": [
        "score = gmodel.evaluate(X_test, Y_test, verbose=1)\n",
        "print('Test loss:', score[0])\n",
        "print('Test accuracy:', score[1])\n"
      ],
      "execution_count": 22,
      "outputs": [
        {
          "output_type": "stream",
          "text": [
            "320/320 [==============================] - 2s 6ms/step\n",
            "('Test loss:', 0.4735165685415268)\n",
            "('Test accuracy:', 0.75625)\n"
          ],
          "name": "stdout"
        }
      ]
    },
    {
      "metadata": {
        "id": "cu9RpBjTmrGs",
        "colab_type": "code",
        "colab": {}
      },
      "cell_type": "code",
      "source": [
        ""
      ],
      "execution_count": 0,
      "outputs": []
    },
    {
      "metadata": {
        "id": "Zdi2ym-By4uo",
        "colab_type": "code",
        "colab": {}
      },
      "cell_type": "code",
      "source": [
        ""
      ],
      "execution_count": 0,
      "outputs": []
    }
  ]
}