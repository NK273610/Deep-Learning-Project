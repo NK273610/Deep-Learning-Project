{
 "cells": [
  {
   "cell_type": "code",
   "execution_count": null,
   "metadata": {
    "collapsed": false
   },
   "outputs": [],
   "source": [
    "from random import choice\n",
    "import cv2\n",
    "import numpy as np\n",
    "import keras.preprocessing.image as prep\n",
    "import pandas as pd\n",
    "import matplotlib.pyplot as plt\n",
    "%matplotlib inline"
   ]
  },
  {
   "cell_type": "code",
   "execution_count": 2,
   "metadata": {},
   "outputs": [],
   "source": [
    "# load training dataframe\n",
    "data2 = pd.read_json('train.json')\n",
    "\n",
    "X_band_1=np.array([np.array(band).astype(np.float32).reshape(75, 75) for band in data2[\"band_1\"]])\n",
    "X_band_2=np.array([np.array(band).astype(np.float32).reshape(75, 75) for band in data2[\"band_2\"]])\n",
    "channel_3 = X_band_1 + X_band_2\n",
    "train_data = np.concatenate([X_band_1[:, :, :, np.newaxis],\n",
    "                             X_band_2[:, :, :, np.newaxis],\n",
    "                             channel_3[:, :, :, np.newaxis]], axis=-1)"
   ]
  },
  {
   "cell_type": "code",
   "execution_count": 3,
   "metadata": {},
   "outputs": [],
   "source": [
    "train_targets=np.array(data2[\"is_iceberg\"]).reshape([-1,1])\n",
    "init_data=list(map(lambda x, y:(x, y), train_data, train_targets))\n",
    "aug_images=[]"
   ]
  },
  {
   "cell_type": "code",
   "execution_count": 4,
   "metadata": {},
   "outputs": [],
   "source": [
    "for image,target in init_data:\n",
    "\n",
    "    img_v=cv2.flip(image,0)\n",
    "    img_h=cv2.flip(image,1)\n",
    "    img_rot=np.rot90(image, k=choice([0, 1, 2, 3]), axes=(0, 1))\n",
    "    img_prep=prep.random_shift(image, wrg=0.1, hrg=0.1,\n",
    "                                row_axis=0, col_axis=1, channel_axis=2)\n",
    "    aug_images.append((img_v, target))\n",
    "    aug_images.append((img_h, target))\n",
    "    aug_images.append((img_rot, target))\n",
    "    aug_images.append((img_prep, target))"
   ]
  },
  {
   "cell_type": "code",
   "execution_count": null,
   "metadata": {},
   "outputs": [],
   "source": [
    "final_data = init_data + aug_images"
   ]
  },
  {
   "cell_type": "code",
   "execution_count": 12,
   "metadata": {},
   "outputs": [],
   "source": [
    ""
   ]
  },
  {
   "cell_type": "code",
   "execution_count": null,
   "metadata": {},
   "outputs": [],
   "source": []
  }
 ],
 "metadata": {
  "kernelspec": {
   "display_name": "Python 2",
   "language": "python",
   "name": "python2"
  },
  "language_info": {
   "codemirror_mode": {
    "name": "ipython",
    "version": 2
   },
   "file_extension": ".py",
   "mimetype": "text/x-python",
   "name": "python",
   "nbconvert_exporter": "python",
   "pygments_lexer": "ipython2",
   "version": "2.7.6"
  }
 },
 "nbformat": 4,
 "nbformat_minor": 0
}
